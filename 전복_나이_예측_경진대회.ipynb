{
  "cells": [
    {
      "cell_type": "markdown",
      "metadata": {
        "id": "view-in-github",
        "colab_type": "text"
      },
      "source": [
        "<a href=\"https://colab.research.google.com/github/Shape95/DACON-abalone-age-prediction/blob/main/%EC%A0%84%EB%B3%B5_%EB%82%98%EC%9D%B4_%EC%98%88%EC%B8%A1_%EA%B2%BD%EC%A7%84%EB%8C%80%ED%9A%8C.ipynb\" target=\"_parent\"><img src=\"https://colab.research.google.com/assets/colab-badge.svg\" alt=\"Open In Colab\"/></a>"
      ]
    },
    {
      "cell_type": "markdown",
      "metadata": {
        "id": "BvscbZNtjisU"
      },
      "source": [
        "# 전복 나이 예측 경진대회 "
      ]
    },
    {
      "cell_type": "code",
      "source": [
        "%tensorflow_version 2.x\n",
        "import tensorflow as tf\n",
        "device_name = tf.test.gpu_device_name()\n",
        "if device_name != '/device:GPU:0':\n",
        "  raise SystemError('GPU device not found')\n",
        "print('Found GPU at: {}'.format(device_name))"
      ],
      "metadata": {
        "colab": {
          "base_uri": "https://localhost:8080/"
        },
        "id": "zIhot20zOnh4",
        "outputId": "76a478da-4360-4666-9370-24de3126f837"
      },
      "execution_count": 1,
      "outputs": [
        {
          "output_type": "stream",
          "name": "stdout",
          "text": [
            "Found GPU at: /device:GPU:0\n"
          ]
        }
      ]
    },
    {
      "cell_type": "markdown",
      "metadata": {
        "id": "82RqOmYfjisa"
      },
      "source": [
        "# 1. 데이터 준비 및 모듈 임포트\n"
      ]
    },
    {
      "cell_type": "code",
      "execution_count": 2,
      "metadata": {
        "colab": {
          "base_uri": "https://localhost:8080/"
        },
        "id": "H-YpkwcTVXt0",
        "outputId": "3d89b1b2-abca-4df8-e84f-02cb906df38e"
      },
      "outputs": [
        {
          "output_type": "stream",
          "name": "stdout",
          "text": [
            "Mounted at /content/drive\n"
          ]
        }
      ],
      "source": [
        "from google.colab import drive\n",
        "drive.mount('/content/drive')"
      ]
    },
    {
      "cell_type": "code",
      "execution_count": 3,
      "metadata": {
        "id": "Pyb7zWAnYSB7"
      },
      "outputs": [],
      "source": [
        "# 기본 데이터 정리 및 처리\n",
        "import pandas as pd\n",
        "import numpy as np\n",
        "\n",
        "# 시각화\n",
        "import missingno\n",
        "import seaborn as sns\n",
        "import matplotlib.pyplot as plt\n",
        "%matplotlib inline\n",
        "\n",
        "# 전처리 및 머신 러닝 알고리즘\n",
        "from sklearn.preprocessing import LabelEncoder, OneHotEncoder\n",
        "from sklearn.preprocessing import StandardScaler\n",
        "from sklearn.neighbors import KNeighborsClassifier\n",
        "from sklearn.linear_model import LogisticRegression\n",
        "from sklearn.ensemble import RandomForestClassifier\n",
        "from sklearn.svm import SVC\n",
        "from xgboost import XGBClassifier\n",
        "from sklearn.ensemble import GradientBoostingClassifier\n",
        "from sklearn.ensemble import ExtraTreesClassifier\n",
        "from sklearn.ensemble import AdaBoostClassifier\n",
        "from sklearn.gaussian_process import GaussianProcessClassifier\n",
        "from sklearn.naive_bayes import GaussianNB\n",
        "from sklearn.ensemble import BaggingClassifier\n",
        "from sklearn.ensemble import VotingClassifier\n",
        "\n",
        "# 모델 튜닝 및 평가\n",
        "from sklearn.model_selection import cross_val_score\n",
        "from sklearn.model_selection import GridSearchCV\n",
        "from sklearn.model_selection import cross_val_predict\n",
        "from sklearn import model_selection\n",
        "\n",
        "\n",
        "# 경고 제거 (판다스가 에러 메시지를 자주 만들어 내기 때문)\n",
        "import warnings\n",
        "warnings.filterwarnings('ignore')"
      ]
    },
    {
      "cell_type": "code",
      "execution_count": 4,
      "metadata": {
        "id": "PYMO0m7Zjisa"
      },
      "outputs": [],
      "source": [
        "dir = '/content/drive/MyDrive/개인/AI/DACON/전복 나이 예측 경진대회/data/'\n",
        "\n",
        "# csv형식으로 된 데이터 파일을 읽어옵니다.\n",
        "train = pd.read_csv(dir + 'train.csv')\n",
        "test = pd.read_csv(dir + 'test.csv')"
      ]
    },
    {
      "cell_type": "code",
      "source": [
        "dir = '/content/drive/MyDrive/개인/AI/DACON/전복 나이 예측 경진대회/data/'\n",
        "\n",
        "# csv형식으로 된 데이터 파일을 읽어옵니다.\n",
        "train1 = pd.read_csv(dir + 'train.csv')\n",
        "test1 = pd.read_csv(dir + 'test.csv')"
      ],
      "metadata": {
        "id": "7DgGTqZ5Qkvh"
      },
      "execution_count": 5,
      "outputs": []
    },
    {
      "cell_type": "markdown",
      "metadata": {
        "id": "w_7Q6_B3jisc"
      },
      "source": [
        "# 2. 파일 병합"
      ]
    },
    {
      "cell_type": "code",
      "execution_count": 6,
      "metadata": {
        "colab": {
          "base_uri": "https://localhost:8080/"
        },
        "id": "r0n5ruyIaZxU",
        "outputId": "fca5a1c0-ef4d-4c44-856c-7bd53f475a77"
      },
      "outputs": [
        {
          "output_type": "stream",
          "name": "stdout",
          "text": [
            "data size is : (4177, 10)\n"
          ]
        }
      ],
      "source": [
        "ntrain = train.shape[0]\n",
        "ntest = test.shape[0]\n",
        "\n",
        "y_train = train['Target'].values\n",
        "\n",
        "# train, test 병합\n",
        "data = pd.concat((train, test))\n",
        "\n",
        "print('data size is : {}'.format(data.shape))"
      ]
    },
    {
      "cell_type": "markdown",
      "metadata": {
        "id": "KoDtqVarjisf"
      },
      "source": [
        "# 3. 파일 탐색"
      ]
    },
    {
      "cell_type": "code",
      "execution_count": 7,
      "metadata": {
        "colab": {
          "base_uri": "https://localhost:8080/",
          "height": 604
        },
        "id": "wmcuCFmajisd",
        "outputId": "d1f6124d-f08e-47f2-fe5d-296d85339f79"
      },
      "outputs": [
        {
          "output_type": "execute_result",
          "data": {
            "text/plain": [
              "<matplotlib.axes._subplots.AxesSubplot at 0x7f3c81498bd0>"
            ]
          },
          "metadata": {},
          "execution_count": 7
        },
        {
          "output_type": "display_data",
          "data": {
            "text/plain": [
              "<Figure size 1080x576 with 2 Axes>"
            ],
            "image/png": "[encoded data removed]"
          },
          "metadata": {
            "needs_background": "light"
          }
        }
      ],
      "source": [
        "missingno.matrix(data, figsize = (15,8))"
      ]
    },
    {
      "cell_type": "code",
      "source": [
        "data.isnull().sum()"
      ],
      "metadata": {
        "colab": {
          "base_uri": "https://localhost:8080/"
        },
        "id": "cTxDIFlArSIq",
        "outputId": "bbb3cffb-41cf-406f-b86e-a05e89eff3f3"
      },
      "execution_count": 8,
      "outputs": [
        {
          "output_type": "execute_result",
          "data": {
            "text/plain": [
              "id                   0\n",
              "Gender               0\n",
              "Lenght               0\n",
              "Diameter             0\n",
              "Height               0\n",
              "Whole Weight         0\n",
              "Shucked Weight       0\n",
              "Viscra Weight        0\n",
              "Shell Weight         0\n",
              "Target            2924\n",
              "dtype: int64"
            ]
          },
          "metadata": {},
          "execution_count": 8
        }
      ]
    },
    {
      "cell_type": "code",
      "execution_count": 9,
      "metadata": {
        "colab": {
          "base_uri": "https://localhost:8080/",
          "height": 206
        },
        "id": "04bWF9ZKZi2S",
        "outputId": "b3e90281-bf16-49d2-8a43-07c87c0f180c"
      },
      "outputs": [
        {
          "output_type": "execute_result",
          "data": {
            "text/plain": [
              "   id Gender  Lenght  Diameter  Height  Whole Weight  Shucked Weight  \\\n",
              "0   1      M   0.605     0.470   0.115        1.1140          0.3925   \n",
              "1   2      I   0.430     0.315   0.095        0.3780          0.1750   \n",
              "2   3      I   0.580     0.490   0.195        1.3165          0.5305   \n",
              "3   4      M   0.535     0.405   0.175        1.2705          0.5480   \n",
              "4   5      I   0.310     0.235   0.090        0.1270          0.0480   \n",
              "\n",
              "   Viscra Weight  Shell Weight  Target  \n",
              "0         0.2910        0.3100    15.0  \n",
              "1         0.0800        0.1045     8.0  \n",
              "2         0.2540        0.4100    18.0  \n",
              "3         0.3265        0.3370    13.0  \n",
              "4         0.0310        0.0400     6.0  "
            ],
            "text/html": [
              "\n",
              "  <div id=\"df-cbb054e3-a1d1-4d89-9ce5-527c900d3276\">\n",
              "    <div class=\"colab-df-container\">\n",
              "      <div>\n",
              "<style scoped>\n",
              "    .dataframe tbody tr th:only-of-type {\n",
              "        vertical-align: middle;\n",
              "    }\n",
              "\n",
              "    .dataframe tbody tr th {\n",
              "        vertical-align: top;\n",
              "    }\n",
              "\n",
              "    .dataframe thead th {\n",
              "        text-align: right;\n",
              "    }\n",
              "</style>\n",
              "<table border=\"1\" class=\"dataframe\">\n",
              "  <thead>\n",
              "    <tr style=\"text-align: right;\">\n",
              "      <th></th>\n",
              "      <th>id</th>\n",
              "      <th>Gender</th>\n",
              "      <th>Lenght</th>\n",
              "      <th>Diameter</th>\n",
              "      <th>Height</th>\n",
              "      <th>Whole Weight</th>\n",
              "      <th>Shucked Weight</th>\n",
              "      <th>Viscra Weight</th>\n",
              "      <th>Shell Weight</th>\n",
              "      <th>Target</th>\n",
              "    </tr>\n",
              "  </thead>\n",
              "  <tbody>\n",
              "    <tr>\n",
              "      <th>0</th>\n",
              "      <td>1</td>\n",
              "      <td>M</td>\n",
              "      <td>0.605</td>\n",
              "      <td>0.470</td>\n",
              "      <td>0.115</td>\n",
              "      <td>1.1140</td>\n",
              "      <td>0.3925</td>\n",
              "      <td>0.2910</td>\n",
              "      <td>0.3100</td>\n",
              "      <td>15.0</td>\n",
              "    </tr>\n",
              "    <tr>\n",
              "      <th>1</th>\n",
              "      <td>2</td>\n",
              "      <td>I</td>\n",
              "      <td>0.430</td>\n",
              "      <td>0.315</td>\n",
              "      <td>0.095</td>\n",
              "      <td>0.3780</td>\n",
              "      <td>0.1750</td>\n",
              "      <td>0.0800</td>\n",
              "      <td>0.1045</td>\n",
              "      <td>8.0</td>\n",
              "    </tr>\n",
              "    <tr>\n",
              "      <th>2</th>\n",
              "      <td>3</td>\n",
              "      <td>I</td>\n",
              "      <td>0.580</td>\n",
              "      <td>0.490</td>\n",
              "      <td>0.195</td>\n",
              "      <td>1.3165</td>\n",
              "      <td>0.5305</td>\n",
              "      <td>0.2540</td>\n",
              "      <td>0.4100</td>\n",
              "      <td>18.0</td>\n",
              "    </tr>\n",
              "    <tr>\n",
              "      <th>3</th>\n",
              "      <td>4</td>\n",
              "      <td>M</td>\n",
              "      <td>0.535</td>\n",
              "      <td>0.405</td>\n",
              "      <td>0.175</td>\n",
              "      <td>1.2705</td>\n",
              "      <td>0.5480</td>\n",
              "      <td>0.3265</td>\n",
              "      <td>0.3370</td>\n",
              "      <td>13.0</td>\n",
              "    </tr>\n",
              "    <tr>\n",
              "      <th>4</th>\n",
              "      <td>5</td>\n",
              "      <td>I</td>\n",
              "      <td>0.310</td>\n",
              "      <td>0.235</td>\n",
              "      <td>0.090</td>\n",
              "      <td>0.1270</td>\n",
              "      <td>0.0480</td>\n",
              "      <td>0.0310</td>\n",
              "      <td>0.0400</td>\n",
              "      <td>6.0</td>\n",
              "    </tr>\n",
              "  </tbody>\n",
              "</table>\n",
              "</div>\n",
              "      <button class=\"colab-df-convert\" onclick=\"convertToInteractive('df-cbb054e3-a1d1-4d89-9ce5-527c900d3276')\"\n",
              "              title=\"Convert this dataframe to an interactive table.\"\n",
              "              style=\"display:none;\">\n",
              "        \n",
              "  <svg xmlns=\"http://www.w3.org/2000/svg\" height=\"24px\"viewBox=\"0 0 24 24\"\n",
              "       width=\"24px\">\n",
              "    <path d=\"M0 0h24v24H0V0z\" fill=\"none\"/>\n",
              "    <path d=\"M18.56 5.44l.94 2.06.94-2.06 2.06-.94-2.06-.94-.94-2.06-.94 2.06-2.06.94zm-11 1L8.5 8.5l.94-2.06 2.06-.94-2.06-.94L8.5 2.5l-.94 2.06-2.06.94zm10 10l.94 2.06.94-2.06 2.06-.94-2.06-.94-.94-2.06-.94 2.06-2.06.94z\"/><path d=\"M17.41 7.96l-1.37-1.37c-.4-.4-.92-.59-1.43-.59-.52 0-1.04.2-1.43.59L10.3 9.45l-7.72 7.72c-.78.78-.78 2.05 0 2.83L4 21.41c.39.39.9.59 1.41.59.51 0 1.02-.2 1.41-.59l7.78-7.78 2.81-2.81c.8-.78.8-2.07 0-2.86zM5.41 20L4 18.59l7.72-7.72 1.47 1.35L5.41 20z\"/>\n",
              "  </svg>\n",
              "      </button>\n",
              "      \n",
              "  <style>\n",
              "    .colab-df-container {\n",
              "      display:flex;\n",
              "      flex-wrap:wrap;\n",
              "      gap: 12px;\n",
              "    }\n",
              "\n",
              "    .colab-df-convert {\n",
              "      background-color: #E8F0FE;\n",
              "      border: none;\n",
              "      border-radius: 50%;\n",
              "      cursor: pointer;\n",
              "      display: none;\n",
              "      fill: #1967D2;\n",
              "      height: 32px;\n",
              "      padding: 0 0 0 0;\n",
              "      width: 32px;\n",
              "    }\n",
              "\n",
              "    .colab-df-convert:hover {\n",
              "      background-color: #E2EBFA;\n",
              "      box-shadow: 0px 1px 2px rgba(60, 64, 67, 0.3), 0px 1px 3px 1px rgba(60, 64, 67, 0.15);\n",
              "      fill: #174EA6;\n",
              "    }\n",
              "\n",
              "    [theme=dark] .colab-df-convert {\n",
              "      background-color: #3B4455;\n",
              "      fill: #D2E3FC;\n",
              "    }\n",
              "\n",
              "    [theme=dark] .colab-df-convert:hover {\n",
              "      background-color: #434B5C;\n",
              "      box-shadow: 0px 1px 3px 1px rgba(0, 0, 0, 0.15);\n",
              "      filter: drop-shadow(0px 1px 2px rgba(0, 0, 0, 0.3));\n",
              "      fill: #FFFFFF;\n",
              "    }\n",
              "  </style>\n",
              "\n",
              "      <script>\n",
              "        const buttonEl =\n",
              "          document.querySelector('#df-cbb054e3-a1d1-4d89-9ce5-527c900d3276 button.colab-df-convert');\n",
              "        buttonEl.style.display =\n",
              "          google.colab.kernel.accessAllowed ? 'block' : 'none';\n",
              "\n",
              "        async function convertToInteractive(key) {\n",
              "          const element = document.querySelector('#df-cbb054e3-a1d1-4d89-9ce5-527c900d3276');\n",
              "          const dataTable =\n",
              "            await google.colab.kernel.invokeFunction('convertToInteractive',\n",
              "                                                     [key], {});\n",
              "          if (!dataTable) return;\n",
              "\n",
              "          const docLinkHtml = 'Like what you see? Visit the ' +\n",
              "            '<a target=\"_blank\" href=https://colab.research.google.com/notebooks/data_table.ipynb>data table notebook</a>'\n",
              "            + ' to learn more about interactive tables.';\n",
              "          element.innerHTML = '';\n",
              "          dataTable['output_type'] = 'display_data';\n",
              "          await google.colab.output.renderOutput(dataTable, element);\n",
              "          const docLink = document.createElement('div');\n",
              "          docLink.innerHTML = docLinkHtml;\n",
              "          element.appendChild(docLink);\n",
              "        }\n",
              "      </script>\n",
              "    </div>\n",
              "  </div>\n",
              "  "
            ]
          },
          "metadata": {},
          "execution_count": 9
        }
      ],
      "source": [
        "data.head()"
      ]
    },
    {
      "cell_type": "code",
      "execution_count": 10,
      "metadata": {
        "colab": {
          "base_uri": "https://localhost:8080/"
        },
        "id": "1m1q-7qo_dj2",
        "outputId": "8378a7f1-cec7-406f-f886-1ad2e570ae77"
      },
      "outputs": [
        {
          "output_type": "execute_result",
          "data": {
            "text/plain": [
              "M    1528\n",
              "I    1342\n",
              "F    1307\n",
              "Name: Gender, dtype: int64"
            ]
          },
          "metadata": {},
          "execution_count": 10
        }
      ],
      "source": [
        "data.Gender.value_counts()"
      ]
    },
    {
      "cell_type": "markdown",
      "source": [
        "# 4. 데이터 탐구 (EDA)"
      ],
      "metadata": {
        "id": "IAIQ-XyZr3ta"
      }
    },
    {
      "cell_type": "code",
      "source": [
        "# Co-relation 매트릭스\n",
        "corr = data.corr()\n",
        "# 마스크 셋업\n",
        "mask = np.zeros_like(corr, dtype=np.bool)\n",
        "mask[np.triu_indices_from(mask)] = True\n",
        "# 그래프 셋업\n",
        "plt.figure(figsize=(14, 8))\n",
        "# 그래프 타이틀\n",
        "plt.title('Overall Correlation of Titanic Features', fontsize=18)\n",
        "# Co-relation 매트릭스 런칭\n",
        "sns.heatmap(corr, mask=mask, annot=False,cmap='RdYlGn', linewidths=0.2, annot_kws={'size':20})\n",
        "plt.show()"
      ],
      "metadata": {
        "colab": {
          "base_uri": "https://localhost:8080/",
          "height": 573
        },
        "id": "_SHirmYGVE5j",
        "outputId": "78acab83-9527-46df-dee9-3ba599f66bd1"
      },
      "execution_count": 11,
      "outputs": [
        {
          "output_type": "display_data",
          "data": {
            "text/plain": [
              "<Figure size 1008x576 with 2 Axes>"
            ],
            "image/png": "[encoded data removed]"
          },
          "metadata": {
            "needs_background": "light"
          }
        }
      ]
    },
    {
      "cell_type": "markdown",
      "source": [
        "correlation으로 본 결과 대부분의 특징들이 함께 증가하는 양의 상관성을 가지고 있습니다.\n",
        "\n",
        "\n",
        "\n"
      ],
      "metadata": {
        "id": "RFAC7DzPSjaa"
      }
    },
    {
      "cell_type": "markdown",
      "source": [
        "Age"
      ],
      "metadata": {
        "id": "UWfzty6NR3if"
      }
    },
    {
      "cell_type": "code",
      "source": [
        "# 성별 개체 수\n",
        "train[['Gender', 'Target']].groupby(['Gender']).mean()"
      ],
      "metadata": {
        "colab": {
          "base_uri": "https://localhost:8080/",
          "height": 175
        },
        "id": "KYccjBlGR4aM",
        "outputId": "36f15771-fb7e-442c-e82f-73f610d3c476"
      },
      "execution_count": 12,
      "outputs": [
        {
          "output_type": "execute_result",
          "data": {
            "text/plain": [
              "           Target\n",
              "Gender           \n",
              "F       11.086842\n",
              "I        7.876238\n",
              "M       10.714286"
            ],
            "text/html": [
              "\n",
              "  <div id=\"df-c8d711f2-d3bc-4d85-8703-f643a8ec7725\">\n",
              "    <div class=\"colab-df-container\">\n",
              "      <div>\n",
              "<style scoped>\n",
              "    .dataframe tbody tr th:only-of-type {\n",
              "        vertical-align: middle;\n",
              "    }\n",
              "\n",
              "    .dataframe tbody tr th {\n",
              "        vertical-align: top;\n",
              "    }\n",
              "\n",
              "    .dataframe thead th {\n",
              "        text-align: right;\n",
              "    }\n",
              "</style>\n",
              "<table border=\"1\" class=\"dataframe\">\n",
              "  <thead>\n",
              "    <tr style=\"text-align: right;\">\n",
              "      <th></th>\n",
              "      <th>Target</th>\n",
              "    </tr>\n",
              "    <tr>\n",
              "      <th>Gender</th>\n",
              "      <th></th>\n",
              "    </tr>\n",
              "  </thead>\n",
              "  <tbody>\n",
              "    <tr>\n",
              "      <th>F</th>\n",
              "      <td>11.086842</td>\n",
              "    </tr>\n",
              "    <tr>\n",
              "      <th>I</th>\n",
              "      <td>7.876238</td>\n",
              "    </tr>\n",
              "    <tr>\n",
              "      <th>M</th>\n",
              "      <td>10.714286</td>\n",
              "    </tr>\n",
              "  </tbody>\n",
              "</table>\n",
              "</div>\n",
              "      <button class=\"colab-df-convert\" onclick=\"convertToInteractive('df-c8d711f2-d3bc-4d85-8703-f643a8ec7725')\"\n",
              "              title=\"Convert this dataframe to an interactive table.\"\n",
              "              style=\"display:none;\">\n",
              "        \n",
              "  <svg xmlns=\"http://www.w3.org/2000/svg\" height=\"24px\"viewBox=\"0 0 24 24\"\n",
              "       width=\"24px\">\n",
              "    <path d=\"M0 0h24v24H0V0z\" fill=\"none\"/>\n",
              "    <path d=\"M18.56 5.44l.94 2.06.94-2.06 2.06-.94-2.06-.94-.94-2.06-.94 2.06-2.06.94zm-11 1L8.5 8.5l.94-2.06 2.06-.94-2.06-.94L8.5 2.5l-.94 2.06-2.06.94zm10 10l.94 2.06.94-2.06 2.06-.94-2.06-.94-.94-2.06-.94 2.06-2.06.94z\"/><path d=\"M17.41 7.96l-1.37-1.37c-.4-.4-.92-.59-1.43-.59-.52 0-1.04.2-1.43.59L10.3 9.45l-7.72 7.72c-.78.78-.78 2.05 0 2.83L4 21.41c.39.39.9.59 1.41.59.51 0 1.02-.2 1.41-.59l7.78-7.78 2.81-2.81c.8-.78.8-2.07 0-2.86zM5.41 20L4 18.59l7.72-7.72 1.47 1.35L5.41 20z\"/>\n",
              "  </svg>\n",
              "      </button>\n",
              "      \n",
              "  <style>\n",
              "    .colab-df-container {\n",
              "      display:flex;\n",
              "      flex-wrap:wrap;\n",
              "      gap: 12px;\n",
              "    }\n",
              "\n",
              "    .colab-df-convert {\n",
              "      background-color: #E8F0FE;\n",
              "      border: none;\n",
              "      border-radius: 50%;\n",
              "      cursor: pointer;\n",
              "      display: none;\n",
              "      fill: #1967D2;\n",
              "      height: 32px;\n",
              "      padding: 0 0 0 0;\n",
              "      width: 32px;\n",
              "    }\n",
              "\n",
              "    .colab-df-convert:hover {\n",
              "      background-color: #E2EBFA;\n",
              "      box-shadow: 0px 1px 2px rgba(60, 64, 67, 0.3), 0px 1px 3px 1px rgba(60, 64, 67, 0.15);\n",
              "      fill: #174EA6;\n",
              "    }\n",
              "\n",
              "    [theme=dark] .colab-df-convert {\n",
              "      background-color: #3B4455;\n",
              "      fill: #D2E3FC;\n",
              "    }\n",
              "\n",
              "    [theme=dark] .colab-df-convert:hover {\n",
              "      background-color: #434B5C;\n",
              "      box-shadow: 0px 1px 3px 1px rgba(0, 0, 0, 0.15);\n",
              "      filter: drop-shadow(0px 1px 2px rgba(0, 0, 0, 0.3));\n",
              "      fill: #FFFFFF;\n",
              "    }\n",
              "  </style>\n",
              "\n",
              "      <script>\n",
              "        const buttonEl =\n",
              "          document.querySelector('#df-c8d711f2-d3bc-4d85-8703-f643a8ec7725 button.colab-df-convert');\n",
              "        buttonEl.style.display =\n",
              "          google.colab.kernel.accessAllowed ? 'block' : 'none';\n",
              "\n",
              "        async function convertToInteractive(key) {\n",
              "          const element = document.querySelector('#df-c8d711f2-d3bc-4d85-8703-f643a8ec7725');\n",
              "          const dataTable =\n",
              "            await google.colab.kernel.invokeFunction('convertToInteractive',\n",
              "                                                     [key], {});\n",
              "          if (!dataTable) return;\n",
              "\n",
              "          const docLinkHtml = 'Like what you see? Visit the ' +\n",
              "            '<a target=\"_blank\" href=https://colab.research.google.com/notebooks/data_table.ipynb>data table notebook</a>'\n",
              "            + ' to learn more about interactive tables.';\n",
              "          element.innerHTML = '';\n",
              "          dataTable['output_type'] = 'display_data';\n",
              "          await google.colab.output.renderOutput(dataTable, element);\n",
              "          const docLink = document.createElement('div');\n",
              "          docLink.innerHTML = docLinkHtml;\n",
              "          element.appendChild(docLink);\n",
              "        }\n",
              "      </script>\n",
              "    </div>\n",
              "  </div>\n",
              "  "
            ]
          },
          "metadata": {},
          "execution_count": 12
        }
      ]
    },
    {
      "cell_type": "code",
      "source": [
        "# 성별 개체 수\n",
        "f, ax = plt.subplots(1, 3, figsize = (20, 6))\n",
        "sns.distplot(train[train['Gender'] == 'M'].Target, ax=ax[0])\n",
        "ax[0].set_title('Age in Gender M')\n",
        "sns.distplot(train[train['Gender'] == 'I'].Target, ax=ax[1])\n",
        "ax[1].set_title('Age in Gender I')\n",
        "sns.distplot(train[train['Gender'] == 'F'].Target, ax=ax[2])\n",
        "ax[2].set_title('Age in Gender F')\n",
        "plt.show()"
      ],
      "metadata": {
        "colab": {
          "base_uri": "https://localhost:8080/",
          "height": 404
        },
        "id": "iywgcAHsZGQv",
        "outputId": "1afedc2e-720a-404f-eae1-670a62fec90b"
      },
      "execution_count": 13,
      "outputs": [
        {
          "output_type": "display_data",
          "data": {
            "text/plain": [
              "<Figure size 1440x432 with 3 Axes>"
            ],
            "image/png": "[encoded data removed]"
          },
          "metadata": {
            "needs_background": "light"
          }
        }
      ]
    },
    {
      "cell_type": "markdown",
      "metadata": {
        "id": "nt2JqJpf4g-7"
      },
      "source": [
        "Lenght 분석"
      ]
    },
    {
      "cell_type": "code",
      "execution_count": 15,
      "metadata": {
        "colab": {
          "base_uri": "https://localhost:8080/"
        },
        "id": "rVQ62x_N4fKo",
        "outputId": "2593f594-b450-419b-fb8e-20e3775eb6c2"
      },
      "outputs": [
        {
          "output_type": "stream",
          "name": "stdout",
          "text": [
            "Highest Lenght : 0.075\n",
            "Lowest Lenght : 0.815\n",
            "Average Lenght : 0.5239920995930091\n"
          ]
        }
      ],
      "source": [
        "print('Highest Lenght :', data['Lenght'].min())\n",
        "print('Lowest Lenght :', data['Lenght'].max())\n",
        "print('Average Lenght :', data['Lenght'].mean())"
      ]
    },
    {
      "cell_type": "code",
      "execution_count": 16,
      "metadata": {
        "colab": {
          "base_uri": "https://localhost:8080/",
          "height": 404
        },
        "id": "zIZWuMjc4fMx",
        "outputId": "aa2fbc75-5977-4efc-bbdf-e55a7cb7572c"
      },
      "outputs": [
        {
          "output_type": "display_data",
          "data": {
            "text/plain": [
              "<Figure size 1440x432 with 3 Axes>"
            ],
            "image/png": "[encoded data removed]"
          },
          "metadata": {
            "needs_background": "light"
          }
        }
      ],
      "source": [
        "f, ax = plt.subplots(1, 3, figsize = (20, 6))\n",
        "sns.distplot(train[train['Gender'] == 'M'].Lenght, ax=ax[0])\n",
        "ax[0].set_title('Lenght in Gender M')\n",
        "sns.distplot(train[train['Gender'] == 'I'].Lenght, ax=ax[1])\n",
        "ax[1].set_title('Lenght in Gender I')\n",
        "sns.distplot(train[train['Gender'] == 'F'].Lenght, ax=ax[2])\n",
        "ax[2].set_title('Lenght in Gender F')\n",
        "plt.show()"
      ]
    },
    {
      "cell_type": "markdown",
      "metadata": {
        "id": "SISSRma_jisi"
      },
      "source": [
        "# 5. Feature Engineering\n"
      ]
    },
    {
      "cell_type": "code",
      "source": [
        "temp = data.copy()"
      ],
      "metadata": {
        "id": "wgzMd_Y5sZfp"
      },
      "execution_count": 17,
      "outputs": []
    },
    {
      "cell_type": "markdown",
      "metadata": {
        "id": "Ej2B2Zvhjisk"
      },
      "source": [
        "# 6. 마지막 항목 결정\n"
      ]
    },
    {
      "cell_type": "code",
      "execution_count": 18,
      "metadata": {
        "id": "ldy72Ucvjisl",
        "colab": {
          "base_uri": "https://localhost:8080/",
          "height": 206
        },
        "outputId": "0d429cc5-bfb9-43d4-cdc3-fbb9c06e199c"
      },
      "outputs": [
        {
          "output_type": "execute_result",
          "data": {
            "text/plain": [
              "   id Gender  Lenght  Diameter  Height  Whole Weight  Shucked Weight  \\\n",
              "0   1      M   0.605     0.470   0.115        1.1140          0.3925   \n",
              "1   2      I   0.430     0.315   0.095        0.3780          0.1750   \n",
              "2   3      I   0.580     0.490   0.195        1.3165          0.5305   \n",
              "3   4      M   0.535     0.405   0.175        1.2705          0.5480   \n",
              "4   5      I   0.310     0.235   0.090        0.1270          0.0480   \n",
              "\n",
              "   Viscra Weight  Shell Weight  Target F1     F2     F3     F4      F5  \\\n",
              "0         0.2910        0.3100    15.0  M  0.605  0.470  0.115  1.1140   \n",
              "1         0.0800        0.1045     8.0  I  0.430  0.315  0.095  0.3780   \n",
              "2         0.2540        0.4100    18.0  I  0.580  0.490  0.195  1.3165   \n",
              "3         0.3265        0.3370    13.0  M  0.535  0.405  0.175  1.2705   \n",
              "4         0.0310        0.0400     6.0  I  0.310  0.235  0.090  0.1270   \n",
              "\n",
              "       F6      F7      F8  \n",
              "0  0.3925  0.2910  0.3100  \n",
              "1  0.1750  0.0800  0.1045  \n",
              "2  0.5305  0.2540  0.4100  \n",
              "3  0.5480  0.3265  0.3370  \n",
              "4  0.0480  0.0310  0.0400  "
            ],
            "text/html": [
              "\n",
              "  <div id=\"df-9cd1b43f-b8c6-4e6b-bf61-d3f99362ccf9\">\n",
              "    <div class=\"colab-df-container\">\n",
              "      <div>\n",
              "<style scoped>\n",
              "    .dataframe tbody tr th:only-of-type {\n",
              "        vertical-align: middle;\n",
              "    }\n",
              "\n",
              "    .dataframe tbody tr th {\n",
              "        vertical-align: top;\n",
              "    }\n",
              "\n",
              "    .dataframe thead th {\n",
              "        text-align: right;\n",
              "    }\n",
              "</style>\n",
              "<table border=\"1\" class=\"dataframe\">\n",
              "  <thead>\n",
              "    <tr style=\"text-align: right;\">\n",
              "      <th></th>\n",
              "      <th>id</th>\n",
              "      <th>Gender</th>\n",
              "      <th>Lenght</th>\n",
              "      <th>Diameter</th>\n",
              "      <th>Height</th>\n",
              "      <th>Whole Weight</th>\n",
              "      <th>Shucked Weight</th>\n",
              "      <th>Viscra Weight</th>\n",
              "      <th>Shell Weight</th>\n",
              "      <th>Target</th>\n",
              "      <th>F1</th>\n",
              "      <th>F2</th>\n",
              "      <th>F3</th>\n",
              "      <th>F4</th>\n",
              "      <th>F5</th>\n",
              "      <th>F6</th>\n",
              "      <th>F7</th>\n",
              "      <th>F8</th>\n",
              "    </tr>\n",
              "  </thead>\n",
              "  <tbody>\n",
              "    <tr>\n",
              "      <th>0</th>\n",
              "      <td>1</td>\n",
              "      <td>M</td>\n",
              "      <td>0.605</td>\n",
              "      <td>0.470</td>\n",
              "      <td>0.115</td>\n",
              "      <td>1.1140</td>\n",
              "      <td>0.3925</td>\n",
              "      <td>0.2910</td>\n",
              "      <td>0.3100</td>\n",
              "      <td>15.0</td>\n",
              "      <td>M</td>\n",
              "      <td>0.605</td>\n",
              "      <td>0.470</td>\n",
              "      <td>0.115</td>\n",
              "      <td>1.1140</td>\n",
              "      <td>0.3925</td>\n",
              "      <td>0.2910</td>\n",
              "      <td>0.3100</td>\n",
              "    </tr>\n",
              "    <tr>\n",
              "      <th>1</th>\n",
              "      <td>2</td>\n",
              "      <td>I</td>\n",
              "      <td>0.430</td>\n",
              "      <td>0.315</td>\n",
              "      <td>0.095</td>\n",
              "      <td>0.3780</td>\n",
              "      <td>0.1750</td>\n",
              "      <td>0.0800</td>\n",
              "      <td>0.1045</td>\n",
              "      <td>8.0</td>\n",
              "      <td>I</td>\n",
              "      <td>0.430</td>\n",
              "      <td>0.315</td>\n",
              "      <td>0.095</td>\n",
              "      <td>0.3780</td>\n",
              "      <td>0.1750</td>\n",
              "      <td>0.0800</td>\n",
              "      <td>0.1045</td>\n",
              "    </tr>\n",
              "    <tr>\n",
              "      <th>2</th>\n",
              "      <td>3</td>\n",
              "      <td>I</td>\n",
              "      <td>0.580</td>\n",
              "      <td>0.490</td>\n",
              "      <td>0.195</td>\n",
              "      <td>1.3165</td>\n",
              "      <td>0.5305</td>\n",
              "      <td>0.2540</td>\n",
              "      <td>0.4100</td>\n",
              "      <td>18.0</td>\n",
              "      <td>I</td>\n",
              "      <td>0.580</td>\n",
              "      <td>0.490</td>\n",
              "      <td>0.195</td>\n",
              "      <td>1.3165</td>\n",
              "      <td>0.5305</td>\n",
              "      <td>0.2540</td>\n",
              "      <td>0.4100</td>\n",
              "    </tr>\n",
              "    <tr>\n",
              "      <th>3</th>\n",
              "      <td>4</td>\n",
              "      <td>M</td>\n",
              "      <td>0.535</td>\n",
              "      <td>0.405</td>\n",
              "      <td>0.175</td>\n",
              "      <td>1.2705</td>\n",
              "      <td>0.5480</td>\n",
              "      <td>0.3265</td>\n",
              "      <td>0.3370</td>\n",
              "      <td>13.0</td>\n",
              "      <td>M</td>\n",
              "      <td>0.535</td>\n",
              "      <td>0.405</td>\n",
              "      <td>0.175</td>\n",
              "      <td>1.2705</td>\n",
              "      <td>0.5480</td>\n",
              "      <td>0.3265</td>\n",
              "      <td>0.3370</td>\n",
              "    </tr>\n",
              "    <tr>\n",
              "      <th>4</th>\n",
              "      <td>5</td>\n",
              "      <td>I</td>\n",
              "      <td>0.310</td>\n",
              "      <td>0.235</td>\n",
              "      <td>0.090</td>\n",
              "      <td>0.1270</td>\n",
              "      <td>0.0480</td>\n",
              "      <td>0.0310</td>\n",
              "      <td>0.0400</td>\n",
              "      <td>6.0</td>\n",
              "      <td>I</td>\n",
              "      <td>0.310</td>\n",
              "      <td>0.235</td>\n",
              "      <td>0.090</td>\n",
              "      <td>0.1270</td>\n",
              "      <td>0.0480</td>\n",
              "      <td>0.0310</td>\n",
              "      <td>0.0400</td>\n",
              "    </tr>\n",
              "  </tbody>\n",
              "</table>\n",
              "</div>\n",
              "      <button class=\"colab-df-convert\" onclick=\"convertToInteractive('df-9cd1b43f-b8c6-4e6b-bf61-d3f99362ccf9')\"\n",
              "              title=\"Convert this dataframe to an interactive table.\"\n",
              "              style=\"display:none;\">\n",
              "        \n",
              "  <svg xmlns=\"http://www.w3.org/2000/svg\" height=\"24px\"viewBox=\"0 0 24 24\"\n",
              "       width=\"24px\">\n",
              "    <path d=\"M0 0h24v24H0V0z\" fill=\"none\"/>\n",
              "    <path d=\"M18.56 5.44l.94 2.06.94-2.06 2.06-.94-2.06-.94-.94-2.06-.94 2.06-2.06.94zm-11 1L8.5 8.5l.94-2.06 2.06-.94-2.06-.94L8.5 2.5l-.94 2.06-2.06.94zm10 10l.94 2.06.94-2.06 2.06-.94-2.06-.94-.94-2.06-.94 2.06-2.06.94z\"/><path d=\"M17.41 7.96l-1.37-1.37c-.4-.4-.92-.59-1.43-.59-.52 0-1.04.2-1.43.59L10.3 9.45l-7.72 7.72c-.78.78-.78 2.05 0 2.83L4 21.41c.39.39.9.59 1.41.59.51 0 1.02-.2 1.41-.59l7.78-7.78 2.81-2.81c.8-.78.8-2.07 0-2.86zM5.41 20L4 18.59l7.72-7.72 1.47 1.35L5.41 20z\"/>\n",
              "  </svg>\n",
              "      </button>\n",
              "      \n",
              "  <style>\n",
              "    .colab-df-container {\n",
              "      display:flex;\n",
              "      flex-wrap:wrap;\n",
              "      gap: 12px;\n",
              "    }\n",
              "\n",
              "    .colab-df-convert {\n",
              "      background-color: #E8F0FE;\n",
              "      border: none;\n",
              "      border-radius: 50%;\n",
              "      cursor: pointer;\n",
              "      display: none;\n",
              "      fill: #1967D2;\n",
              "      height: 32px;\n",
              "      padding: 0 0 0 0;\n",
              "      width: 32px;\n",
              "    }\n",
              "\n",
              "    .colab-df-convert:hover {\n",
              "      background-color: #E2EBFA;\n",
              "      box-shadow: 0px 1px 2px rgba(60, 64, 67, 0.3), 0px 1px 3px 1px rgba(60, 64, 67, 0.15);\n",
              "      fill: #174EA6;\n",
              "    }\n",
              "\n",
              "    [theme=dark] .colab-df-convert {\n",
              "      background-color: #3B4455;\n",
              "      fill: #D2E3FC;\n",
              "    }\n",
              "\n",
              "    [theme=dark] .colab-df-convert:hover {\n",
              "      background-color: #434B5C;\n",
              "      box-shadow: 0px 1px 3px 1px rgba(0, 0, 0, 0.15);\n",
              "      filter: drop-shadow(0px 1px 2px rgba(0, 0, 0, 0.3));\n",
              "      fill: #FFFFFF;\n",
              "    }\n",
              "  </style>\n",
              "\n",
              "      <script>\n",
              "        const buttonEl =\n",
              "          document.querySelector('#df-9cd1b43f-b8c6-4e6b-bf61-d3f99362ccf9 button.colab-df-convert');\n",
              "        buttonEl.style.display =\n",
              "          google.colab.kernel.accessAllowed ? 'block' : 'none';\n",
              "\n",
              "        async function convertToInteractive(key) {\n",
              "          const element = document.querySelector('#df-9cd1b43f-b8c6-4e6b-bf61-d3f99362ccf9');\n",
              "          const dataTable =\n",
              "            await google.colab.kernel.invokeFunction('convertToInteractive',\n",
              "                                                     [key], {});\n",
              "          if (!dataTable) return;\n",
              "\n",
              "          const docLinkHtml = 'Like what you see? Visit the ' +\n",
              "            '<a target=\"_blank\" href=https://colab.research.google.com/notebooks/data_table.ipynb>data table notebook</a>'\n",
              "            + ' to learn more about interactive tables.';\n",
              "          element.innerHTML = '';\n",
              "          dataTable['output_type'] = 'display_data';\n",
              "          await google.colab.output.renderOutput(dataTable, element);\n",
              "          const docLink = document.createElement('div');\n",
              "          docLink.innerHTML = docLinkHtml;\n",
              "          element.appendChild(docLink);\n",
              "        }\n",
              "      </script>\n",
              "    </div>\n",
              "  </div>\n",
              "  "
            ]
          },
          "metadata": {},
          "execution_count": 18
        }
      ],
      "source": [
        "temp['F1'] = temp['Gender']\n",
        "temp['F2'] = temp['Lenght']\n",
        "temp['F3'] = temp['Diameter']\n",
        "temp['F4'] = temp['Height']\n",
        "temp['F5'] = temp['Whole Weight']\n",
        "temp['F6'] = temp['Shucked Weight']\n",
        "temp['F7'] = temp['Viscra Weight']\n",
        "temp['F8'] = temp['Shell Weight']\n",
        "\n",
        "temp.head()"
      ]
    },
    {
      "cell_type": "markdown",
      "metadata": {
        "id": "VeiIFc5Zjisl"
      },
      "source": [
        "인코딩"
      ]
    },
    {
      "cell_type": "code",
      "source": [
        "# LabelEncoding\n",
        "dfl = pd.DataFrame() "
      ],
      "metadata": {
        "id": "fDurQbCkuEPs"
      },
      "execution_count": 19,
      "outputs": []
    },
    {
      "cell_type": "code",
      "execution_count": 20,
      "metadata": {
        "id": "YKEeqDe6jisl"
      },
      "outputs": [],
      "source": [
        "good_columns = ['F1','F2','F3','F4','F5','F6','F7','F8']\n",
        "dfl[good_columns] = temp[good_columns]\n",
        "\n",
        "# OneHotEncoding\n",
        "dfh = dfl.copy()"
      ]
    },
    {
      "cell_type": "code",
      "execution_count": 21,
      "metadata": {
        "id": "XO5xXtpPjisl",
        "colab": {
          "base_uri": "https://localhost:8080/",
          "height": 206
        },
        "outputId": "29844d81-be56-4a69-87a8-c9bd0f0e9795"
      },
      "outputs": [
        {
          "output_type": "execute_result",
          "data": {
            "text/plain": [
              "   F1  F2  F3  F4    F5    F6   F7   F8\n",
              "0   2  96  77  22  1641   742  578  554\n",
              "1   1  61  46  18   502   322  157  178\n",
              "2   1  91  81  38  1904  1004  504  718\n",
              "3   2  82  64  34  1850  1037  646  604\n",
              "4   1  37  30  17   143    80   59   61"
            ],
            "text/html": [
              "\n",
              "  <div id=\"df-36794f50-8d26-4303-8556-c1899a6aab80\">\n",
              "    <div class=\"colab-df-container\">\n",
              "      <div>\n",
              "<style scoped>\n",
              "    .dataframe tbody tr th:only-of-type {\n",
              "        vertical-align: middle;\n",
              "    }\n",
              "\n",
              "    .dataframe tbody tr th {\n",
              "        vertical-align: top;\n",
              "    }\n",
              "\n",
              "    .dataframe thead th {\n",
              "        text-align: right;\n",
              "    }\n",
              "</style>\n",
              "<table border=\"1\" class=\"dataframe\">\n",
              "  <thead>\n",
              "    <tr style=\"text-align: right;\">\n",
              "      <th></th>\n",
              "      <th>F1</th>\n",
              "      <th>F2</th>\n",
              "      <th>F3</th>\n",
              "      <th>F4</th>\n",
              "      <th>F5</th>\n",
              "      <th>F6</th>\n",
              "      <th>F7</th>\n",
              "      <th>F8</th>\n",
              "    </tr>\n",
              "  </thead>\n",
              "  <tbody>\n",
              "    <tr>\n",
              "      <th>0</th>\n",
              "      <td>2</td>\n",
              "      <td>96</td>\n",
              "      <td>77</td>\n",
              "      <td>22</td>\n",
              "      <td>1641</td>\n",
              "      <td>742</td>\n",
              "      <td>578</td>\n",
              "      <td>554</td>\n",
              "    </tr>\n",
              "    <tr>\n",
              "      <th>1</th>\n",
              "      <td>1</td>\n",
              "      <td>61</td>\n",
              "      <td>46</td>\n",
              "      <td>18</td>\n",
              "      <td>502</td>\n",
              "      <td>322</td>\n",
              "      <td>157</td>\n",
              "      <td>178</td>\n",
              "    </tr>\n",
              "    <tr>\n",
              "      <th>2</th>\n",
              "      <td>1</td>\n",
              "      <td>91</td>\n",
              "      <td>81</td>\n",
              "      <td>38</td>\n",
              "      <td>1904</td>\n",
              "      <td>1004</td>\n",
              "      <td>504</td>\n",
              "      <td>718</td>\n",
              "    </tr>\n",
              "    <tr>\n",
              "      <th>3</th>\n",
              "      <td>2</td>\n",
              "      <td>82</td>\n",
              "      <td>64</td>\n",
              "      <td>34</td>\n",
              "      <td>1850</td>\n",
              "      <td>1037</td>\n",
              "      <td>646</td>\n",
              "      <td>604</td>\n",
              "    </tr>\n",
              "    <tr>\n",
              "      <th>4</th>\n",
              "      <td>1</td>\n",
              "      <td>37</td>\n",
              "      <td>30</td>\n",
              "      <td>17</td>\n",
              "      <td>143</td>\n",
              "      <td>80</td>\n",
              "      <td>59</td>\n",
              "      <td>61</td>\n",
              "    </tr>\n",
              "  </tbody>\n",
              "</table>\n",
              "</div>\n",
              "      <button class=\"colab-df-convert\" onclick=\"convertToInteractive('df-36794f50-8d26-4303-8556-c1899a6aab80')\"\n",
              "              title=\"Convert this dataframe to an interactive table.\"\n",
              "              style=\"display:none;\">\n",
              "        \n",
              "  <svg xmlns=\"http://www.w3.org/2000/svg\" height=\"24px\"viewBox=\"0 0 24 24\"\n",
              "       width=\"24px\">\n",
              "    <path d=\"M0 0h24v24H0V0z\" fill=\"none\"/>\n",
              "    <path d=\"M18.56 5.44l.94 2.06.94-2.06 2.06-.94-2.06-.94-.94-2.06-.94 2.06-2.06.94zm-11 1L8.5 8.5l.94-2.06 2.06-.94-2.06-.94L8.5 2.5l-.94 2.06-2.06.94zm10 10l.94 2.06.94-2.06 2.06-.94-2.06-.94-.94-2.06-.94 2.06-2.06.94z\"/><path d=\"M17.41 7.96l-1.37-1.37c-.4-.4-.92-.59-1.43-.59-.52 0-1.04.2-1.43.59L10.3 9.45l-7.72 7.72c-.78.78-.78 2.05 0 2.83L4 21.41c.39.39.9.59 1.41.59.51 0 1.02-.2 1.41-.59l7.78-7.78 2.81-2.81c.8-.78.8-2.07 0-2.86zM5.41 20L4 18.59l7.72-7.72 1.47 1.35L5.41 20z\"/>\n",
              "  </svg>\n",
              "      </button>\n",
              "      \n",
              "  <style>\n",
              "    .colab-df-container {\n",
              "      display:flex;\n",
              "      flex-wrap:wrap;\n",
              "      gap: 12px;\n",
              "    }\n",
              "\n",
              "    .colab-df-convert {\n",
              "      background-color: #E8F0FE;\n",
              "      border: none;\n",
              "      border-radius: 50%;\n",
              "      cursor: pointer;\n",
              "      display: none;\n",
              "      fill: #1967D2;\n",
              "      height: 32px;\n",
              "      padding: 0 0 0 0;\n",
              "      width: 32px;\n",
              "    }\n",
              "\n",
              "    .colab-df-convert:hover {\n",
              "      background-color: #E2EBFA;\n",
              "      box-shadow: 0px 1px 2px rgba(60, 64, 67, 0.3), 0px 1px 3px 1px rgba(60, 64, 67, 0.15);\n",
              "      fill: #174EA6;\n",
              "    }\n",
              "\n",
              "    [theme=dark] .colab-df-convert {\n",
              "      background-color: #3B4455;\n",
              "      fill: #D2E3FC;\n",
              "    }\n",
              "\n",
              "    [theme=dark] .colab-df-convert:hover {\n",
              "      background-color: #434B5C;\n",
              "      box-shadow: 0px 1px 3px 1px rgba(0, 0, 0, 0.15);\n",
              "      filter: drop-shadow(0px 1px 2px rgba(0, 0, 0, 0.3));\n",
              "      fill: #FFFFFF;\n",
              "    }\n",
              "  </style>\n",
              "\n",
              "      <script>\n",
              "        const buttonEl =\n",
              "          document.querySelector('#df-36794f50-8d26-4303-8556-c1899a6aab80 button.colab-df-convert');\n",
              "        buttonEl.style.display =\n",
              "          google.colab.kernel.accessAllowed ? 'block' : 'none';\n",
              "\n",
              "        async function convertToInteractive(key) {\n",
              "          const element = document.querySelector('#df-36794f50-8d26-4303-8556-c1899a6aab80');\n",
              "          const dataTable =\n",
              "            await google.colab.kernel.invokeFunction('convertToInteractive',\n",
              "                                                     [key], {});\n",
              "          if (!dataTable) return;\n",
              "\n",
              "          const docLinkHtml = 'Like what you see? Visit the ' +\n",
              "            '<a target=\"_blank\" href=https://colab.research.google.com/notebooks/data_table.ipynb>data table notebook</a>'\n",
              "            + ' to learn more about interactive tables.';\n",
              "          element.innerHTML = '';\n",
              "          dataTable['output_type'] = 'display_data';\n",
              "          await google.colab.output.renderOutput(dataTable, element);\n",
              "          const docLink = document.createElement('div');\n",
              "          docLink.innerHTML = docLinkHtml;\n",
              "          element.appendChild(docLink);\n",
              "        }\n",
              "      </script>\n",
              "    </div>\n",
              "  </div>\n",
              "  "
            ]
          },
          "metadata": {},
          "execution_count": 21
        }
      ],
      "source": [
        "dfl_enc = dfl.apply(LabelEncoder().fit_transform)\n",
        "dfl_enc.head()"
      ]
    },
    {
      "cell_type": "code",
      "execution_count": 22,
      "metadata": {
        "id": "sJOB9CnGjisl",
        "colab": {
          "base_uri": "https://localhost:8080/",
          "height": 280
        },
        "outputId": "5946acf8-fbf6-48ce-c8f9-9ddbd85a27a6"
      },
      "outputs": [
        {
          "output_type": "execute_result",
          "data": {
            "text/plain": [
              "   F1_F  F1_I  F1_M  F2_0.075  F2_0.11  F2_0.13  F2_0.135  F2_0.14  F2_0.15  \\\n",
              "0     0     0     1         0        0        0         0        0        0   \n",
              "1     0     1     0         0        0        0         0        0        0   \n",
              "2     0     1     0         0        0        0         0        0        0   \n",
              "3     0     0     1         0        0        0         0        0        0   \n",
              "4     0     1     0         0        0        0         0        0        0   \n",
              "\n",
              "   F2_0.155  ...  F8_0.725  F8_0.726  F8_0.76  F8_0.78  F8_0.7975  F8_0.815  \\\n",
              "0         0  ...         0         0        0        0          0         0   \n",
              "1         0  ...         0         0        0        0          0         0   \n",
              "2         0  ...         0         0        0        0          0         0   \n",
              "3         0  ...         0         0        0        0          0         0   \n",
              "4         0  ...         0         0        0        0          0         0   \n",
              "\n",
              "   F8_0.85  F8_0.885  F8_0.897  F8_1.005  \n",
              "0        0         0         0         0  \n",
              "1        0         0         0         0  \n",
              "2        0         0         0         0  \n",
              "3        0         0         0         0  \n",
              "4        0         0         0         0  \n",
              "\n",
              "[5 rows x 6049 columns]"
            ],
            "text/html": [
              "\n",
              "  <div id=\"df-85b7a09b-996d-4702-9e8c-b2578c662967\">\n",
              "    <div class=\"colab-df-container\">\n",
              "      <div>\n",
              "<style scoped>\n",
              "    .dataframe tbody tr th:only-of-type {\n",
              "        vertical-align: middle;\n",
              "    }\n",
              "\n",
              "    .dataframe tbody tr th {\n",
              "        vertical-align: top;\n",
              "    }\n",
              "\n",
              "    .dataframe thead th {\n",
              "        text-align: right;\n",
              "    }\n",
              "</style>\n",
              "<table border=\"1\" class=\"dataframe\">\n",
              "  <thead>\n",
              "    <tr style=\"text-align: right;\">\n",
              "      <th></th>\n",
              "      <th>F1_F</th>\n",
              "      <th>F1_I</th>\n",
              "      <th>F1_M</th>\n",
              "      <th>F2_0.075</th>\n",
              "      <th>F2_0.11</th>\n",
              "      <th>F2_0.13</th>\n",
              "      <th>F2_0.135</th>\n",
              "      <th>F2_0.14</th>\n",
              "      <th>F2_0.15</th>\n",
              "      <th>F2_0.155</th>\n",
              "      <th>...</th>\n",
              "      <th>F8_0.725</th>\n",
              "      <th>F8_0.726</th>\n",
              "      <th>F8_0.76</th>\n",
              "      <th>F8_0.78</th>\n",
              "      <th>F8_0.7975</th>\n",
              "      <th>F8_0.815</th>\n",
              "      <th>F8_0.85</th>\n",
              "      <th>F8_0.885</th>\n",
              "      <th>F8_0.897</th>\n",
              "      <th>F8_1.005</th>\n",
              "    </tr>\n",
              "  </thead>\n",
              "  <tbody>\n",
              "    <tr>\n",
              "      <th>0</th>\n",
              "      <td>0</td>\n",
              "      <td>0</td>\n",
              "      <td>1</td>\n",
              "      <td>0</td>\n",
              "      <td>0</td>\n",
              "      <td>0</td>\n",
              "      <td>0</td>\n",
              "      <td>0</td>\n",
              "      <td>0</td>\n",
              "      <td>0</td>\n",
              "      <td>...</td>\n",
              "      <td>0</td>\n",
              "      <td>0</td>\n",
              "      <td>0</td>\n",
              "      <td>0</td>\n",
              "      <td>0</td>\n",
              "      <td>0</td>\n",
              "      <td>0</td>\n",
              "      <td>0</td>\n",
              "      <td>0</td>\n",
              "      <td>0</td>\n",
              "    </tr>\n",
              "    <tr>\n",
              "      <th>1</th>\n",
              "      <td>0</td>\n",
              "      <td>1</td>\n",
              "      <td>0</td>\n",
              "      <td>0</td>\n",
              "      <td>0</td>\n",
              "      <td>0</td>\n",
              "      <td>0</td>\n",
              "      <td>0</td>\n",
              "      <td>0</td>\n",
              "      <td>0</td>\n",
              "      <td>...</td>\n",
              "      <td>0</td>\n",
              "      <td>0</td>\n",
              "      <td>0</td>\n",
              "      <td>0</td>\n",
              "      <td>0</td>\n",
              "      <td>0</td>\n",
              "      <td>0</td>\n",
              "      <td>0</td>\n",
              "      <td>0</td>\n",
              "      <td>0</td>\n",
              "    </tr>\n",
              "    <tr>\n",
              "      <th>2</th>\n",
              "      <td>0</td>\n",
              "      <td>1</td>\n",
              "      <td>0</td>\n",
              "      <td>0</td>\n",
              "      <td>0</td>\n",
              "      <td>0</td>\n",
              "      <td>0</td>\n",
              "      <td>0</td>\n",
              "      <td>0</td>\n",
              "      <td>0</td>\n",
              "      <td>...</td>\n",
              "      <td>0</td>\n",
              "      <td>0</td>\n",
              "      <td>0</td>\n",
              "      <td>0</td>\n",
              "      <td>0</td>\n",
              "      <td>0</td>\n",
              "      <td>0</td>\n",
              "      <td>0</td>\n",
              "      <td>0</td>\n",
              "      <td>0</td>\n",
              "    </tr>\n",
              "    <tr>\n",
              "      <th>3</th>\n",
              "      <td>0</td>\n",
              "      <td>0</td>\n",
              "      <td>1</td>\n",
              "      <td>0</td>\n",
              "      <td>0</td>\n",
              "      <td>0</td>\n",
              "      <td>0</td>\n",
              "      <td>0</td>\n",
              "      <td>0</td>\n",
              "      <td>0</td>\n",
              "      <td>...</td>\n",
              "      <td>0</td>\n",
              "      <td>0</td>\n",
              "      <td>0</td>\n",
              "      <td>0</td>\n",
              "      <td>0</td>\n",
              "      <td>0</td>\n",
              "      <td>0</td>\n",
              "      <td>0</td>\n",
              "      <td>0</td>\n",
              "      <td>0</td>\n",
              "    </tr>\n",
              "    <tr>\n",
              "      <th>4</th>\n",
              "      <td>0</td>\n",
              "      <td>1</td>\n",
              "      <td>0</td>\n",
              "      <td>0</td>\n",
              "      <td>0</td>\n",
              "      <td>0</td>\n",
              "      <td>0</td>\n",
              "      <td>0</td>\n",
              "      <td>0</td>\n",
              "      <td>0</td>\n",
              "      <td>...</td>\n",
              "      <td>0</td>\n",
              "      <td>0</td>\n",
              "      <td>0</td>\n",
              "      <td>0</td>\n",
              "      <td>0</td>\n",
              "      <td>0</td>\n",
              "      <td>0</td>\n",
              "      <td>0</td>\n",
              "      <td>0</td>\n",
              "      <td>0</td>\n",
              "    </tr>\n",
              "  </tbody>\n",
              "</table>\n",
              "<p>5 rows × 6049 columns</p>\n",
              "</div>\n",
              "      <button class=\"colab-df-convert\" onclick=\"convertToInteractive('df-85b7a09b-996d-4702-9e8c-b2578c662967')\"\n",
              "              title=\"Convert this dataframe to an interactive table.\"\n",
              "              style=\"display:none;\">\n",
              "        \n",
              "  <svg xmlns=\"http://www.w3.org/2000/svg\" height=\"24px\"viewBox=\"0 0 24 24\"\n",
              "       width=\"24px\">\n",
              "    <path d=\"M0 0h24v24H0V0z\" fill=\"none\"/>\n",
              "    <path d=\"M18.56 5.44l.94 2.06.94-2.06 2.06-.94-2.06-.94-.94-2.06-.94 2.06-2.06.94zm-11 1L8.5 8.5l.94-2.06 2.06-.94-2.06-.94L8.5 2.5l-.94 2.06-2.06.94zm10 10l.94 2.06.94-2.06 2.06-.94-2.06-.94-.94-2.06-.94 2.06-2.06.94z\"/><path d=\"M17.41 7.96l-1.37-1.37c-.4-.4-.92-.59-1.43-.59-.52 0-1.04.2-1.43.59L10.3 9.45l-7.72 7.72c-.78.78-.78 2.05 0 2.83L4 21.41c.39.39.9.59 1.41.59.51 0 1.02-.2 1.41-.59l7.78-7.78 2.81-2.81c.8-.78.8-2.07 0-2.86zM5.41 20L4 18.59l7.72-7.72 1.47 1.35L5.41 20z\"/>\n",
              "  </svg>\n",
              "      </button>\n",
              "      \n",
              "  <style>\n",
              "    .colab-df-container {\n",
              "      display:flex;\n",
              "      flex-wrap:wrap;\n",
              "      gap: 12px;\n",
              "    }\n",
              "\n",
              "    .colab-df-convert {\n",
              "      background-color: #E8F0FE;\n",
              "      border: none;\n",
              "      border-radius: 50%;\n",
              "      cursor: pointer;\n",
              "      display: none;\n",
              "      fill: #1967D2;\n",
              "      height: 32px;\n",
              "      padding: 0 0 0 0;\n",
              "      width: 32px;\n",
              "    }\n",
              "\n",
              "    .colab-df-convert:hover {\n",
              "      background-color: #E2EBFA;\n",
              "      box-shadow: 0px 1px 2px rgba(60, 64, 67, 0.3), 0px 1px 3px 1px rgba(60, 64, 67, 0.15);\n",
              "      fill: #174EA6;\n",
              "    }\n",
              "\n",
              "    [theme=dark] .colab-df-convert {\n",
              "      background-color: #3B4455;\n",
              "      fill: #D2E3FC;\n",
              "    }\n",
              "\n",
              "    [theme=dark] .colab-df-convert:hover {\n",
              "      background-color: #434B5C;\n",
              "      box-shadow: 0px 1px 3px 1px rgba(0, 0, 0, 0.15);\n",
              "      filter: drop-shadow(0px 1px 2px rgba(0, 0, 0, 0.3));\n",
              "      fill: #FFFFFF;\n",
              "    }\n",
              "  </style>\n",
              "\n",
              "      <script>\n",
              "        const buttonEl =\n",
              "          document.querySelector('#df-85b7a09b-996d-4702-9e8c-b2578c662967 button.colab-df-convert');\n",
              "        buttonEl.style.display =\n",
              "          google.colab.kernel.accessAllowed ? 'block' : 'none';\n",
              "\n",
              "        async function convertToInteractive(key) {\n",
              "          const element = document.querySelector('#df-85b7a09b-996d-4702-9e8c-b2578c662967');\n",
              "          const dataTable =\n",
              "            await google.colab.kernel.invokeFunction('convertToInteractive',\n",
              "                                                     [key], {});\n",
              "          if (!dataTable) return;\n",
              "\n",
              "          const docLinkHtml = 'Like what you see? Visit the ' +\n",
              "            '<a target=\"_blank\" href=https://colab.research.google.com/notebooks/data_table.ipynb>data table notebook</a>'\n",
              "            + ' to learn more about interactive tables.';\n",
              "          element.innerHTML = '';\n",
              "          dataTable['output_type'] = 'display_data';\n",
              "          await google.colab.output.renderOutput(dataTable, element);\n",
              "          const docLink = document.createElement('div');\n",
              "          docLink.innerHTML = docLinkHtml;\n",
              "          element.appendChild(docLink);\n",
              "        }\n",
              "      </script>\n",
              "    </div>\n",
              "  </div>\n",
              "  "
            ]
          },
          "metadata": {},
          "execution_count": 22
        }
      ],
      "source": [
        "one_hot_cols = dfh.columns.tolist()\n",
        "dfh_enc = pd.get_dummies(dfh, columns=one_hot_cols)\n",
        "\n",
        "dfh_enc.head()"
      ]
    },
    {
      "cell_type": "markdown",
      "source": [
        "# 7. 모델 만들기\n"
      ],
      "metadata": {
        "id": "mydc7FQwmB8D"
      }
    },
    {
      "cell_type": "code",
      "source": [
        "train = dfh_enc[:ntrain]\n",
        "test = dfh_enc[ntrain:]"
      ],
      "metadata": {
        "id": "qL7IpZVJmHQu"
      },
      "execution_count": 23,
      "outputs": []
    },
    {
      "cell_type": "code",
      "source": [
        "X_test = test\n",
        "X_train = train"
      ],
      "metadata": {
        "id": "P87c8KbGmHSg"
      },
      "execution_count": 24,
      "outputs": []
    },
    {
      "cell_type": "code",
      "source": [
        "scaler = StandardScaler()\n",
        "X_train = scaler.fit_transform(X_train)\n",
        "X_test = scaler.transform(X_test)"
      ],
      "metadata": {
        "id": "cNqnTnkHmaLj"
      },
      "execution_count": 25,
      "outputs": []
    },
    {
      "cell_type": "code",
      "source": [
        "ran = RandomForestClassifier(random_state=1)\n",
        "knn = KNeighborsClassifier()\n",
        "log = LogisticRegression() \n",
        "xgb = XGBClassifier()\n",
        "gbc = GradientBoostingClassifier()\n",
        "svc = SVC(probability=True)\n",
        "ext = ExtraTreesClassifier()\n",
        "ada = AdaBoostClassifier()\n",
        "gnb = GaussianNB()\n",
        "gpc = GaussianProcessClassifier()\n",
        "bag = BaggingClassifier()\n",
        "\n",
        "# 리스트 준비\n",
        "models = [ran, knn, log, xgb, gbc, svc, ext, ada, gnb, gpc, bag]\n",
        "model_names = ['Random Forest', 'K Nearest Neighbour', 'Logistic Regression', 'XGBoost', 'Gradient Boosting', 'SVC', 'Extra Trees', 'AdaBoost', 'Gaussian Naive Bayes', 'Gaussian Process', 'Bagging Classifier']\n",
        "scores = {}"
      ],
      "metadata": {
        "id": "0dCP2yLO1w5A"
      },
      "execution_count": 26,
      "outputs": []
    },
    {
      "cell_type": "code",
      "source": [
        "ran = RandomForestClassifier(random_state=1)\n",
        "knn = KNeighborsClassifier()\n",
        "log = LogisticRegression() \n",
        "xgb = XGBClassifier()\n",
        "gbc = GradientBoostingClassifier()\n",
        "svc = SVC(probability=True)\n",
        "ext = ExtraTreesClassifier()\n",
        "ada = AdaBoostClassifier()\n",
        "gnb = GaussianNB()\n",
        "gpc = GaussianProcessClassifier()\n",
        "bag = BaggingClassifier()\n",
        "\n",
        "# 리스트 준비\n",
        "models = [ran, knn, log, xgb, gbc, svc, ext, ada, gnb, gpc, bag]         \n",
        "model_names = ['Random Forest', 'K Nearest Neighbour', 'Logistic Regression', 'XGBoost', 'Gradient Boosting', 'SVC', 'Extra Trees', 'AdaBoost', 'Gaussian Naive Bayes', 'Gaussian Process', 'Bagging Classifier']\n",
        "scores = {}\n",
        "\n",
        "# 이어서 연속적으로 모델을 학습 시키고 교차 검증합니다.\n",
        "for ind, mod in enumerate(models):\n",
        "    mod.fit(X_train, y_train)\n",
        "    acc = cross_val_score(mod, X_train, y_train, scoring = \"accuracy\", cv = 10)\n",
        "    scores[model_names[ind]] = acc"
      ],
      "metadata": {
        "id": "aAJloKu5mab0"
      },
      "execution_count": 27,
      "outputs": []
    },
    {
      "cell_type": "code",
      "source": [
        "# 결과 테이블을 만듭니다.\n",
        "results = pd.DataFrame(scores).T\n",
        "results['mean'] = results.mean(1)\n",
        "\n",
        "result_df = results.sort_values(by='mean', ascending=False)#.reset_index()\n",
        "result_df.head(11)\n",
        "result_df = result_df.drop(['mean'], axis=1)\n",
        "sns.boxplot(data=result_df.T, orient='h')\n",
        "plt.title('Machine Learning Algorithm Accuracy Score \\n')\n",
        "plt.xlabel('Accuracy Score (%)');"
      ],
      "metadata": {
        "id": "3aQlqHkeJE3S",
        "colab": {
          "base_uri": "https://localhost:8080/",
          "height": 310
        },
        "outputId": "3d75ec1f-9e4b-4cb2-aed0-f5e05334c421"
      },
      "execution_count": 28,
      "outputs": [
        {
          "output_type": "display_data",
          "data": {
            "text/plain": [
              "<Figure size 432x288 with 1 Axes>"
            ],
            "image/png": "[encoded data removed]"
          },
          "metadata": {
            "needs_background": "light"
          }
        }
      ]
    },
    {
      "cell_type": "markdown",
      "source": [
        "# 8. 하이퍼 파라미터 튜닝"
      ],
      "metadata": {
        "id": "eykkYeW2ugYJ"
      }
    },
    {
      "cell_type": "markdown",
      "source": [
        "### SVC"
      ],
      "metadata": {
        "id": "xxNUOONhu9JG"
      }
    },
    {
      "cell_type": "code",
      "source": [
        "# 파라미터 서치\n",
        "Cs = [0.01, 0.1, 1, 5, 10, 15, 20, 50]\n",
        "gammas = [0.001, 0.01, 0.1]\n",
        "\n",
        "# 파라미터 그리드 셋팅\n",
        "hyperparams = {'C': Cs, 'gamma' : gammas}\n",
        "\n",
        "# 교차검증\n",
        "gd=GridSearchCV(estimator = SVC(probability=True), param_grid = hyperparams, \n",
        "                verbose=True, cv=5, scoring = \"accuracy\", n_jobs=-1)\n",
        "\n",
        "# 모델 fiting 및 결과\n",
        "gd.fit(X_train, y_train)\n",
        "print(gd.best_score_)\n",
        "print(gd.best_params_)"
      ],
      "metadata": {
        "colab": {
          "base_uri": "https://localhost:8080/"
        },
        "id": "UlbTwYGNuhCx",
        "outputId": "3747c0a0-90f8-40b6-bbd0-241a4ba62871"
      },
      "execution_count": 29,
      "outputs": [
        {
          "output_type": "stream",
          "name": "stdout",
          "text": [
            "Fitting 5 folds for each of 24 candidates, totalling 120 fits\n",
            "0.17718247011952187\n",
            "{'C': 1, 'gamma': 0.001}\n"
          ]
        }
      ]
    },
    {
      "cell_type": "markdown",
      "source": [
        "### Gradient Boosting Classifier\n",
        "* learning_rate는 각 트리의 기여를 줄이는 역할을 합니다.\n",
        "* n_estimator는 각 경우의 트리 숫자입니다."
      ],
      "metadata": {
        "id": "tBS7bPpEurJ0"
      }
    },
    {
      "cell_type": "code",
      "source": [
        "learning_rate = [0.01, 0.05, 0.1, 0.2, 0.5]\n",
        "n_estimators = [100, 1000, 2000]\n",
        "max_depth = [3, 5, 10, 15]\n",
        "\n",
        "hyperparams = {'learning_rate': learning_rate, 'n_estimators': n_estimators}\n",
        "\n",
        "gd=GridSearchCV(estimator = GradientBoostingClassifier(), param_grid = hyperparams, \n",
        "                verbose=True, cv=5, scoring = \"accuracy\", n_jobs=-1)\n",
        "\n",
        "gd.fit(X_train, y_train)\n",
        "print(gd.best_score_)\n",
        "print(gd.best_params_)"
      ],
      "metadata": {
        "colab": {
          "base_uri": "https://localhost:8080/"
        },
        "id": "65pHJTWIusxL",
        "outputId": "472326f5-ecee-4ae6-ab96-a966d3aad6db"
      },
      "execution_count": null,
      "outputs": [
        {
          "output_type": "stream",
          "name": "stdout",
          "text": [
            "Fitting 5 folds for each of 15 candidates, totalling 75 fits\n"
          ]
        }
      ]
    },
    {
      "cell_type": "markdown",
      "source": [
        "### Logistic Regression"
      ],
      "metadata": {
        "id": "2TvwH5OwvIcB"
      }
    },
    {
      "cell_type": "code",
      "source": [
        "penalty = ['l1', 'l2']\n",
        "C = np.logspace(0, 4, 10)\n",
        "\n",
        "hyperparams = {'penalty': penalty, 'C': C}\n",
        "\n",
        "gd=GridSearchCV(estimator = LogisticRegression(), param_grid = hyperparams, \n",
        "                verbose=True, cv=5, scoring = \"accuracy\", n_jobs=-1)\n",
        "\n",
        "gd.fit(X_train, y_train)\n",
        "print(gd.best_score_)\n",
        "print(gd.best_params_)"
      ],
      "metadata": {
        "id": "CtoubJ-6uszS"
      },
      "execution_count": null,
      "outputs": []
    },
    {
      "cell_type": "markdown",
      "source": [
        "### XGBoost Step 1."
      ],
      "metadata": {
        "id": "Mxf_S74fvZUl"
      }
    },
    {
      "cell_type": "code",
      "source": [
        "learning_rate = [0.001, 0.005, 0.01, 0.05, 0.1, 0.2]\n",
        "n_estimators = [10, 50, 100, 250, 500, 1000]\n",
        "\n",
        "hyperparams = {'learning_rate': learning_rate, 'n_estimators': n_estimators}\n",
        "\n",
        "gd=GridSearchCV(estimator = XGBClassifier(), param_grid = hyperparams, \n",
        "                verbose=True, cv=5, scoring = \"accuracy\", n_jobs=-1)\n",
        "\n",
        "gd.fit(X_train, y_train)\n",
        "print(gd.best_score_)\n",
        "print(gd.best_params_)"
      ],
      "metadata": {
        "id": "fyPrm9fhus1Y"
      },
      "execution_count": null,
      "outputs": []
    },
    {
      "cell_type": "markdown",
      "source": [
        "### XGB Step 2."
      ],
      "metadata": {
        "id": "yz9hdZVxvbk4"
      }
    },
    {
      "cell_type": "code",
      "source": [
        "max_depth = [3, 4, 5, 6, 7, 8, 9, 10]\n",
        "min_child_weight = [1, 2, 3, 4, 5, 6]\n",
        "\n",
        "hyperparams = {'max_depth': max_depth, 'min_child_weight': min_child_weight}\n",
        "\n",
        "gd=GridSearchCV(estimator = XGBClassifier(learning_rate=0.2, n_estimators=10), param_grid = hyperparams, \n",
        "                verbose=True, cv=5, scoring = \"accuracy\", n_jobs=-1)\n",
        "\n",
        "gd.fit(X_train, y_train)\n",
        "print(gd.best_score_)\n",
        "print(gd.best_params_)"
      ],
      "metadata": {
        "id": "IRNrArRfus3b"
      },
      "execution_count": null,
      "outputs": []
    },
    {
      "cell_type": "markdown",
      "source": [
        "### XGB Step 3."
      ],
      "metadata": {
        "id": "85g4wHcrvexJ"
      }
    },
    {
      "cell_type": "code",
      "source": [
        "gamma = [i*0.1 for i in range(0,5)]\n",
        "\n",
        "hyperparams = {'gamma': gamma}\n",
        "\n",
        "gd=GridSearchCV(estimator = XGBClassifier(learning_rate=0.2, n_estimators=10, max_depth=6, \n",
        "                                          min_child_weight=1), param_grid = hyperparams, \n",
        "                verbose=True, cv=5, scoring = \"accuracy\", n_jobs=-1)\n",
        "\n",
        "gd.fit(X_train, y_train)\n",
        "print(gd.best_score_)\n",
        "print(gd.best_params_)"
      ],
      "metadata": {
        "id": "YqgCEf6_us5h"
      },
      "execution_count": null,
      "outputs": []
    },
    {
      "cell_type": "markdown",
      "source": [
        "### XGB Step 4"
      ],
      "metadata": {
        "id": "ps_OTBrDus-Y"
      }
    },
    {
      "cell_type": "code",
      "source": [
        "subsample = [0.6, 0.65, 0.7, 0.75, 0.8, 0.85, 0.9, 0.95, 1]\n",
        "colsample_bytree = [0.6, 0.65, 0.7, 0.75, 0.8, 0.85, 0.9, 0.95, 1]\n",
        "    \n",
        "hyperparams = {'subsample': subsample, 'colsample_bytree': colsample_bytree}\n",
        "\n",
        "gd=GridSearchCV(estimator = XGBClassifier(learning_rate=0.2, n_estimators=10, max_depth=6, \n",
        "                                          min_child_weight=1, gamma=0), param_grid = hyperparams, \n",
        "                verbose=True, cv=5, scoring = \"accuracy\", n_jobs=-1)\n",
        "\n",
        "gd.fit(X_train, y_train)\n",
        "print(gd.best_score_)\n",
        "print(gd.best_params_)"
      ],
      "metadata": {
        "id": "YeI04ZFBvlIb"
      },
      "execution_count": null,
      "outputs": []
    },
    {
      "cell_type": "markdown",
      "source": [
        "### XGB Step 5"
      ],
      "metadata": {
        "id": "dv0HeWCsutAd"
      }
    },
    {
      "cell_type": "code",
      "source": [
        "reg_alpha = [1e-5, 1e-2, 0.1, 1, 100]\n",
        "    \n",
        "hyperparams = {'reg_alpha': reg_alpha}\n",
        "\n",
        "gd=GridSearchCV(estimator = XGBClassifier(learning_rate=0.2, n_estimators=10, max_depth=6, \n",
        "                                          min_child_weight=1, gamma=0, subsample=1, colsample_bytree=1),\n",
        "                                         param_grid = hyperparams, verbose=True, cv=5, scoring = \"accuracy\", n_jobs=-1)\n",
        "\n",
        "gd.fit(X_train, y_train)\n",
        "print(gd.best_score_)\n",
        "print(gd.best_params_)"
      ],
      "metadata": {
        "id": "9bZ9mbZDvn3w"
      },
      "execution_count": null,
      "outputs": []
    },
    {
      "cell_type": "markdown",
      "source": [
        "### Random Forest."
      ],
      "metadata": {
        "id": "fZxy8WoxutCm"
      }
    },
    {
      "cell_type": "code",
      "source": [
        "n_estimators = [10, 50, 100, 200]\n",
        "max_depth = [3, None]\n",
        "max_features = [0.1, 0.2, 0.5, 0.8]\n",
        "min_samples_split = [2, 6]\n",
        "min_samples_leaf = [2, 6]\n",
        "\n",
        "hyperparams = {'n_estimators': n_estimators, 'max_depth': max_depth, 'max_features': max_features,\n",
        "               'min_samples_split': min_samples_split, 'min_samples_leaf': min_samples_leaf}\n",
        "\n",
        "gd=GridSearchCV(estimator = RandomForestClassifier(), param_grid = hyperparams, \n",
        "                verbose=True, cv=5, scoring = \"accuracy\", n_jobs=-1)\n",
        "\n",
        "gd.fit(X_train, y_train)\n",
        "print(gd.best_score_)\n",
        "print(gd.best_params_)"
      ],
      "metadata": {
        "id": "iJDCmG0EvwmL"
      },
      "execution_count": null,
      "outputs": []
    },
    {
      "cell_type": "markdown",
      "source": [
        "### Extra Trees"
      ],
      "metadata": {
        "id": "_qdBDlj1utE1"
      }
    },
    {
      "cell_type": "code",
      "source": [
        "n_estimators = [10, 25, 50, 75, 100]\n",
        "max_depth = [3, None]\n",
        "max_features = [0.1, 0.2, 0.5, 0.8]\n",
        "min_samples_split = [2, 10]\n",
        "min_samples_leaf = [2, 10]\n",
        "\n",
        "hyperparams = {'n_estimators': n_estimators, 'max_depth': max_depth, 'max_features': max_features,\n",
        "               'min_samples_split': min_samples_split, 'min_samples_leaf': min_samples_leaf}\n",
        "\n",
        "gd=GridSearchCV(estimator = ExtraTreesClassifier(), param_grid = hyperparams, \n",
        "                verbose=True, cv=5, scoring = \"accuracy\", n_jobs=-1)\n",
        "\n",
        "gd.fit(X_train, y_train)\n",
        "print(gd.best_score_)\n",
        "print(gd.best_params_)"
      ],
      "metadata": {
        "id": "rJ9z7aXFv0WC"
      },
      "execution_count": null,
      "outputs": []
    },
    {
      "cell_type": "markdown",
      "source": [
        "### KNN"
      ],
      "metadata": {
        "id": "UBvj3yFLKwop"
      }
    },
    {
      "cell_type": "code",
      "source": [
        "n_neighbors = [1, 2, 3, 4, 5]\n",
        "algorithm = ['auto']\n",
        "weights = ['uniform', 'distance']\n",
        "leaf_size = [1, 2, 3, 4, 5, 10]\n",
        "\n",
        "hyperparams = {'algorithm': algorithm, 'weights': weights, 'leaf_size': leaf_size, \n",
        "               'n_neighbors': n_neighbors}\n",
        "\n",
        "gd=GridSearchCV(estimator = KNeighborsClassifier(), param_grid = hyperparams, \n",
        "                verbose=True, cv=5, scoring = \"accuracy\", n_jobs=-1)\n",
        "\n",
        "# Fitting model and return results\n",
        "gd.fit(X_train, y_train)\n",
        "print(gd.best_score_)\n",
        "print(gd.best_params_)"
      ],
      "metadata": {
        "id": "WNPp4Sc3KwvU"
      },
      "execution_count": null,
      "outputs": []
    },
    {
      "cell_type": "markdown",
      "source": [
        "### Bagging Classifier"
      ],
      "metadata": {
        "id": "rz3JQh98utG3"
      }
    },
    {
      "cell_type": "code",
      "source": [
        "n_estimators = [10, 50, 75, 100, 200]\n",
        "max_samples = [0.1, 0.2, 0.5, 0.8, 1.0]\n",
        "max_features = [0.1, 0.2, 0.5, 0.8, 1.0]\n",
        "\n",
        "hyperparams = {'n_estimators': n_estimators, 'max_samples': max_samples, 'max_features': max_features}\n",
        "\n",
        "gd=GridSearchCV(estimator = BaggingClassifier(), param_grid = hyperparams, \n",
        "                verbose=True, cv=5, scoring = \"accuracy\", n_jobs=-1)\n",
        "\n",
        "gd.fit(X_train, y_train)\n",
        "print(gd.best_score_)\n",
        "print(gd.best_params_)"
      ],
      "metadata": {
        "id": "o9oTWJ-Yv31L"
      },
      "execution_count": null,
      "outputs": []
    },
    {
      "cell_type": "markdown",
      "source": [
        "# 9. 모델 재 트레이닝\n"
      ],
      "metadata": {
        "id": "aRNsk1JOv7Bt"
      }
    },
    {
      "cell_type": "code",
      "source": [
        "ran = RandomForestClassifier(random_state=1)\n",
        "\n",
        "knn = KNeighborsClassifier(leaf_size=1, n_neighbors=4, weights='distance')\n",
        "\n",
        "log = LogisticRegression(C=2.7825594022071245, penalty='l2')\n",
        "\n",
        "xgb = XGBClassifier(learning_rate=0.1, n_estimators=10, max_depth=7, \n",
        "                                          min_child_weight=5, gamma=0, subsample=1, colsample_bytree=1, reg_alpha=1e-05)\n",
        "\n",
        "gbc = GradientBoostingClassifier(learning_rate=0.1, max_depth=3, n_estimators=1000)\n",
        "\n",
        "svc = SVC(probability=True, gamma=0.001, C=5)\n",
        "\n",
        "ext = ExtraTreesClassifier(max_depth=None, max_features=0.2, min_samples_leaf=10, min_samples_split=2, n_estimators=100, random_state=1)\n",
        "\n",
        "ada = AdaBoostClassifier(learning_rate=0.5, n_estimators=500, random_state=1)\n",
        "\n",
        "gpc = GaussianProcessClassifier(max_iter_predict=1, n_restarts_optimizer=0, warm_start=True)\n",
        "\n",
        "bag = BaggingClassifier(max_features=1.0, max_samples=1.0, n_estimators=75, random_state=1)"
      ],
      "metadata": {
        "id": "XUp9msse9w-5"
      },
      "execution_count": null,
      "outputs": []
    },
    {
      "cell_type": "code",
      "source": [
        "knn = KNeighborsClassifier(leaf_size=1, n_neighbors=2, weights='uniform')\n",
        "scores3={}\n",
        "knn.fit(X_train, y_train)\n",
        "acc = cross_val_score(knn, X_train, y_train, scoring = 'accuracy', cv=10)\n",
        "scores3['K Nearest Neighbour'] = acc"
      ],
      "metadata": {
        "id": "5F-UzLN794nh"
      },
      "execution_count": null,
      "outputs": []
    },
    {
      "cell_type": "code",
      "source": [
        "results = pd.DataFrame(scores3).T\n",
        "results['mean'] = results.mean(1)\n",
        "result_df = results.sort_values(by='mean', ascending=False)\n",
        "result_df.head(11)\n",
        "\n",
        "result_df = result_df.drop(['mean'], axis=1)\n",
        "sns.boxplot(data=result_df.T, orient='h')\n",
        "plt.title('Machine Learning Algorithm Accuracy Score \\n')\n",
        "plt.xlabel('Accuracy Score (%)');"
      ],
      "metadata": {
        "id": "Dnn_IAYG-8I_"
      },
      "execution_count": null,
      "outputs": []
    },
    {
      "cell_type": "markdown",
      "source": [
        ""
      ],
      "metadata": {
        "id": "3dpKMmSOLkh1"
      }
    },
    {
      "cell_type": "markdown",
      "metadata": {
        "id": "NBSc4Q0Ljism"
      },
      "source": [
        "## 10. Dacon 대회에 제출하기 (Submission)\n",
        "\n",
        "이제 이 예측 결과를 submission.csv 파일로 만들어서 대회 페이지에 제출해보도록 합시다.\n",
        "\n",
        "제출한 뒤 리더보드를 통해 결과를 확인합시다."
      ]
    },
    {
      "cell_type": "code",
      "source": [
        "#튜닝한 파라미터로 하드보팅\n",
        "grid_hard = VotingClassifier(estimators = [('K Nearest Neighbour', knn),\n",
        "                                           ('Bagging Classifier', bag)], voting = 'hard')\n",
        "\n",
        "grid_hard_cv = model_selection.cross_validate(grid_hard, X_train, y_train, cv=10)\n",
        "grid_hard.fit(X_train, y_train)\n",
        "\n",
        "print(\"Hard voting on test set score mean: {:.2f}\". format(grid_hard_cv['test_score'].mean() * 100))"
      ],
      "metadata": {
        "id": "fDv8k1geMSH9"
      },
      "execution_count": null,
      "outputs": []
    },
    {
      "cell_type": "code",
      "source": [
        "grid_soft = VotingClassifier(estimators = [('K Nearest Neighbour', knn),\n",
        "                                           ('Bagging Classifier', bag)], voting = 'soft')\n",
        "\n",
        "grid_soft_cv = model_selection.cross_validate(grid_soft, X_train, y_train, cv=10)\n",
        "grid_soft.fit(X_train, y_train)\n",
        "\n",
        "print(\"Soft voting on test set score mean: {:.2f}\". format(grid_soft_cv['test_score'].mean() * 100))"
      ],
      "metadata": {
        "id": "L-_qfVArMSpv"
      },
      "execution_count": null,
      "outputs": []
    },
    {
      "cell_type": "code",
      "source": [
        "# Final predictions2\n",
        "predictions = grid_hard.predict(X_test)\n",
        "\n",
        "submission = pd.concat([pd.DataFrame(test1['id']), pd.DataFrame(predictions)], axis = 'columns')\n",
        "\n",
        "submission.columns = [\"id\", \"Target\"]\n",
        "submission.to_csv(dir+'sample_submission1.csv', header = True, index = False)"
      ],
      "metadata": {
        "id": "5kznIqjrLlGX"
      },
      "execution_count": null,
      "outputs": []
    },
    {
      "cell_type": "code",
      "source": [
        "# Final predictions\n",
        "predictions = grid_soft.predict(X_test)\n",
        "\n",
        "submission = pd.concat([pd.DataFrame(test1['id']), pd.DataFrame(predictions)], axis = 'columns')\n",
        "\n",
        "submission.columns = [\"id\", \"Target\"]\n",
        "submission.to_csv(dir+'sample_submission2.csv', header = True, index = False)"
      ],
      "metadata": {
        "id": "7WXbFtKALrR_"
      },
      "execution_count": null,
      "outputs": []
    }
  ],
  "metadata": {
    "colab": {
      "collapsed_sections": [],
      "name": "전복 나이 예측 경진대회.ipynb",
      "toc_visible": true,
      "provenance": [],
      "include_colab_link": true
    },
    "kernelspec": {
      "display_name": "Python 3 (ipykernel)",
      "language": "python",
      "name": "python3"
    },
    "language_info": {
      "codemirror_mode": {
        "name": "ipython",
        "version": 3
      },
      "file_extension": ".py",
      "mimetype": "text/x-python",
      "name": "python",
      "nbconvert_exporter": "python",
      "pygments_lexer": "ipython3",
      "version": "3.8.3"
    },
    "accelerator": "GPU"
  },
  "nbformat": 4,
  "nbformat_minor": 0
}